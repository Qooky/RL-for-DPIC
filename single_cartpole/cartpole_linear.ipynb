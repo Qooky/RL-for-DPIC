{
 "cells": [
  {
   "cell_type": "code",
   "execution_count": 393,
   "metadata": {},
   "outputs": [
    {
     "data": {
      "text/plain": [
       "[array([-1.        ,  0.33333333,  1.        ,  0.        ,  0.        ,\n",
       "         0.        ,  0.        ,  0.        ,  0.        ]),\n",
       " array([ 0.        ,  0.        ,  0.        , -1.        ,  0.33333333,\n",
       "         1.        ,  0.        ,  0.        ,  0.        ]),\n",
       " array([ 0.        ,  0.        ,  0.        ,  0.        ,  0.        ,\n",
       "         0.        , -1.        ,  0.33333333,  1.        ])]"
      ]
     },
     "execution_count": 393,
     "metadata": {},
     "output_type": "execute_result"
    }
   ],
   "source": [
    "import numpy as np\n",
    "from sklearn.preprocessing import MinMaxScaler\n",
    "class Features():\n",
    "    def __init__(self):\n",
    "        self.feature_matrix = []\n",
    "\n",
    "    def get_feature_matrix(self, n_actions, observation):\n",
    "        observation = self.get_engineered_feature(observation)\n",
    "        num_obs = len(observation)\n",
    "        features = []\n",
    "        for j in range(n_actions):\n",
    "          feature = [[None]*num_obs]*n_actions\n",
    "          feature[j] = observation\n",
    "          for i in range(j, n_actions-1+j):\n",
    "            feature[(i+1)%n_actions] = np.zeros(num_obs)\n",
    "          features.append(np.array(feature).flatten())\n",
    "        self.feature_matrix = features\n",
    "        return features\n",
    "    \n",
    "    def get_engineered_feature(self, observation):\n",
    "      feature=[]\n",
    "      # for i in range(len(observation)):\n",
    "      #   for j in range(i + 1, len(observation)):\n",
    "      #     feature.append(observation[i] * observation[j])\n",
    "      feature = np.append(observation, feature).reshape(-1,1)\n",
    "      scaler = MinMaxScaler(feature_range=(-1,1)).fit(np.array(feature))\n",
    "      scaled = scaler.transform(feature)\n",
    "      return scaled.flatten()\n",
    "\n",
    "f = Features().get_feature_matrix(3, np.array([1,3,4]))\n",
    "f"
   ]
  },
  {
   "cell_type": "code",
   "execution_count": 396,
   "metadata": {},
   "outputs": [],
   "source": [
    "import gym\n",
    "import numpy as np\n",
    "import matplotlib.pyplot as plt\n",
    "from gym.wrappers.monitoring.video_recorder import VideoRecorder\n",
    "\n",
    "\n",
    "# class Features():\n",
    "#     def __init__(self):\n",
    "#         self.feature_matrix = []\n",
    "\n",
    "#     def get_feature_matrix(self, n_actions, observation):\n",
    "#         observation = self.get_engineered_feature(observation)\n",
    "#         num_obs = len(observation)\n",
    "#         features = []\n",
    "#         for j in range(n_actions):\n",
    "#           feature = [[None]*num_obs]*n_actions\n",
    "#           feature[j] = observation\n",
    "#           for i in range(j, n_actions-1+j):\n",
    "#             feature[(i+1)%n_actions] = np.zeros(num_obs)\n",
    "#           features.append(np.array(feature).flatten())\n",
    "#         self.feature_matrix = features\n",
    "    \n",
    "#     # def get_action(self, observation):\n",
    "#     #     features =self.get_feature_matrix(observation)\n",
    "#     #     action = np.argmax([feature for feature in features])\n",
    "#     #     delta = reward + self.gamma*max([feature for feature in features])\n",
    "#     #     self.w = (1-self.alpha)*(self.w) + self.alpha*(features[action]*delta) \n",
    "\n",
    "#     def get_engineered_feature(self, observation):\n",
    "#       return observation\n",
    "    \n",
    "class CartPoleEnvLinear(gym.Env):\n",
    "\n",
    "    metadata = {\"render.modes\": [\"human\", \"rgb_array\"], \"video.frames_per_second\": 50}\n",
    "\n",
    "    def __init__(self, render_mode=\"rgb_array\", n_observations=1000, q_table=np.array(None), alpha=0.9):\n",
    "      self.env = gym.make(\"CartPole-v1\", render_mode=render_mode)\n",
    "      self.action_space = self.env.action_space\n",
    "      self.n_actions = 2\n",
    "      self.observation_space = self.env.observation_space\n",
    "      self.n_observation_space = 4\n",
    "      self.n_buckets = 4\n",
    "      self.bucket_size = self.env.observation_space.high / (self.n_buckets/2)\n",
    "      self.q_table =  np.zeros((self.env.action_space.n, np.power(self.n_buckets, self.n_observation_space))) if not q_table.all() else q_table\n",
    "      self.epsilon = n_observations/2\n",
    "      self.n_observations = n_observations\n",
    "      self.epsilon_delta = self.epsilon / self.n_observations\n",
    "      self.metric = []\n",
    "      self.test_metric = []\n",
    "      self.alpha = alpha\n",
    "      self.gamma =  0.9\n",
    "      self.w = np.zeros(self.n_observation_space*2)\n",
    "      self.features = Features()\n",
    "      self.epsilon_greedy_curve = []\n",
    "      return \n",
    "    \n",
    "    def get_index(self, observation):\n",
    "      observation_bucketed = self.bucket_observation(observation)\n",
    "      i = len(observation_bucketed) - 1\n",
    "      idx = 0\n",
    "      for el in observation_bucketed:\n",
    "        idx = idx + (self.n_buckets**i * el)\n",
    "        i -= 1\n",
    "      return int(idx)\n",
    "    \n",
    "    def bucket_observation(self, observation):\n",
    "      return(np.floor(observation/self.bucket_size))\n",
    "\n",
    "    def update_q_table(self, observation, observation_prime, reward, action=1):\n",
    "        action, features = self.get_action(observation=observation)\n",
    "        max_future_reward = self.get_max_future_reward(observation=observation_prime)\n",
    "        delta = reward + self.gamma*max_future_reward\n",
    "        self.w = (1-self.alpha)*(self.w) + self.alpha*(features[action]*delta)\n",
    "\n",
    "    def policy(self, observation):   \n",
    "      prob = self.get_epsilon_greedy_probability() #at first, low probability to read from q-table, ie high prob take random action\n",
    "      take_random_action = prob < np.random.random()\n",
    "      if take_random_action:\n",
    "        return self.action_space.sample()\n",
    "      else:\n",
    "        action, _ = self.get_action(observation)\n",
    "        return action\n",
    "      \n",
    "    def get_epsilon_greedy_probability(self):\n",
    "      x = self.epsilon\n",
    "      self.epsilon = self.epsilon - 1\n",
    "      prob = np.max((1/(1+np.exp(-x*10/self.n_observations)), 0))\n",
    "      self.epsilon_greedy_curve.append(prob)\n",
    "      return prob\n",
    "      \n",
    "    def get_action(self, observation):\n",
    "       features = self.features.get_feature_matrix(n_actions=self.n_actions, observation=observation)\n",
    "       action = np.argmax([feature.dot(self.w) for feature in features])\n",
    "       return action, features\n",
    "       \n",
    "    def get_max_future_reward(self, observation):\n",
    "      features = self.features.get_feature_matrix(n_actions=self.n_actions, observation=observation)\n",
    "      max_reward = np.max([feature.dot(self.w) for feature in features])\n",
    "      return max_reward\n",
    "    \n",
    "    def train(self):\n",
    "        observation, _ = self.env.reset()\n",
    "        j=0\n",
    "        for i in range(self.n_observations):\n",
    "          action = self.policy(observation)\n",
    "          observation_prime, reward, terminated, truncated, info = self.env.step(action)\n",
    "          self.update_q_table(observation, observation_prime, reward, action)\n",
    "          observation = observation_prime\n",
    "          j +=1\n",
    "          if terminated or truncated:\n",
    "            self.metric.append(j)\n",
    "            j=0\n",
    "            observation, info = self.env.reset()\n",
    "            # print(info)\n",
    "        self.env.close()\n",
    "      \n",
    "    def test(self):\n",
    "        vid = VideoRecorder(self.env, enabled=True, path=\"./qlearning_linear_test_video/vid.mp4\")\n",
    "        observation, _ = self.env.reset()\n",
    "        j = 0\n",
    "        for i in range(1000):\n",
    "            features = self.features.get_feature_matrix(n_actions=self.n_actions, observation=observation)\n",
    "            action = np.argmax([feature.dot(self.w) for feature in features])\n",
    "            vid.capture_frame()\n",
    "            observation, reward, terminated, truncated, info = self.env.step(action)\n",
    "            j += 1\n",
    "            if terminated or truncated:\n",
    "              self.test_metric.append(j)\n",
    "              j = 0\n",
    "              observation, _ = self.env.reset()\n",
    "        self.env.reset()\n",
    "        self.env.close()\n",
    "        vid.close()"
   ]
  },
  {
   "cell_type": "code",
   "execution_count": 406,
   "metadata": {},
   "outputs": [
    {
     "name": "stderr",
     "output_type": "stream",
     "text": [
      "/Users/jadon/Documents/cart-pole/RL-for-DPIC/cart-pole-env/lib/python3.8/site-packages/gym/utils/passive_env_checker.py:233: DeprecationWarning: `np.bool8` is a deprecated alias for `np.bool_`.  (Deprecated NumPy 1.24)\n",
      "  if not isinstance(terminated, (bool, np.bool8)):\n"
     ]
    },
    {
     "name": "stdout",
     "output_type": "stream",
     "text": [
      "Moviepy - Building video ./qlearning_linear_test_video/vid.mp4.\n",
      "Moviepy - Writing video ./qlearning_linear_test_video/vid.mp4\n",
      "\n"
     ]
    },
    {
     "name": "stderr",
     "output_type": "stream",
     "text": [
      "                                                                \r"
     ]
    },
    {
     "name": "stdout",
     "output_type": "stream",
     "text": [
      "Moviepy - Done !\n",
      "Moviepy - video ready ./qlearning_linear_test_video/vid.mp4\n",
      "[ 2.69892287e+03  6.75742725e+03  8.53837725e+02 -6.75742725e+03\n",
      "  1.20452341e-14 -1.46066886e-13  1.52541889e-14  1.37673841e-13]\n",
      "67.78571428571429\n",
      "62.5\n",
      "[ 8.   9.  10.  14.  31.8 65.2 89. ]\n"
     ]
    },
    {
     "data": {
      "text/plain": [
       "(array([0., 1., 0., 1., 0., 0., 0., 0., 0., 1.]),\n",
       " array([39., 44., 49., 54., 59., 64., 69., 74., 79., 84., 89.]),\n",
       " <BarContainer object of 10 artists>)"
      ]
     },
     "execution_count": 406,
     "metadata": {},
     "output_type": "execute_result"
    },
    {
     "data": {
      "image/png": "[encoded data removed]",
      "text/plain": [
       "<Figure size 640x480 with 4 Axes>"
      ]
     },
     "metadata": {},
     "output_type": "display_data"
    }
   ],
   "source": [
    "env = CartPoleEnvLinear(n_observations=1000)\n",
    "fig, ax = plt.subplots(2,2)\n",
    "ax = ax.flat\n",
    "env.train()\n",
    "env.test()\n",
    "print(env.w)\n",
    "print(np.mean(env.test_metric))\n",
    "print(np.median(env.test_metric))\n",
    "print(np.quantile(env.metric, [0, 0.25, 0.5, 0.75, .95, .99, 1]))\n",
    "ax[0].plot(np.array(env.test_metric))\n",
    "ax[1].plot(env.metric)\n",
    "ax[2].plot(env.epsilon_greedy_curve)\n",
    "ax[3].hist(env.metric, bins=10, range=[np.max(env.metric)-50,np.max(env.metric)])"
   ]
  },
  {
   "cell_type": "markdown",
   "metadata": {},
   "source": []
  },
  {
   "cell_type": "code",
   "execution_count": 403,
   "metadata": {},
   "outputs": [
    {
     "data": {
      "text/plain": [
       "[69, 12]"
      ]
     },
     "execution_count": 403,
     "metadata": {},
     "output_type": "execute_result"
    }
   ],
   "source": [
    "env.metric"
   ]
  },
  {
   "cell_type": "code",
   "execution_count": 296,
   "metadata": {},
   "outputs": [],
   "source": [
    "# y = []\n",
    "# z = []\n",
    "# r = 100\n",
    "# alpha = 0.1\n",
    "# seq = np.arange(-r, r)\n",
    "# for x in seq:\n",
    "#     y.append(np.max((1/(1+np.exp(-x*5/r)), 0))) \n",
    "#     z.append(alpha*(1/(r-x)))\n",
    "# # plt.plot(-np.array(y))\n",
    "# plt.plot(z)"
   ]
  },
  {
   "cell_type": "code",
   "execution_count": null,
   "metadata": {},
   "outputs": [],
   "source": []
  }
 ],
 "metadata": {
  "kernelspec": {
   "display_name": "cart-pole-env",
   "language": "python",
   "name": "python3"
  },
  "language_info": {
   "codemirror_mode": {
    "name": "ipython",
    "version": 3
   },
   "file_extension": ".py",
   "mimetype": "text/x-python",
   "name": "python",
   "nbconvert_exporter": "python",
   "pygments_lexer": "ipython3",
   "version": "3.8.6"
  }
 },
 "nbformat": 4,
 "nbformat_minor": 2
}
