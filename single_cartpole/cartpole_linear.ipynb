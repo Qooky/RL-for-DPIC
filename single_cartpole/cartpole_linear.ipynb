{
 "cells": [
  {
   "cell_type": "code",
   "execution_count": 193,
   "metadata": {},
   "outputs": [
    {
     "data": {
      "text/plain": [
       "[array([-1.        , -0.85714286, -0.71428571, -0.71428571, -0.42857143,\n",
       "        -0.14285714,  0.        ,  0.42857143,  1.        ,  0.        ,\n",
       "         0.        ,  0.        ,  0.        ,  0.        ,  0.        ,\n",
       "         0.        ,  0.        ,  0.        ,  1.        ]),\n",
       " array([ 0.        ,  0.        ,  0.        ,  0.        ,  0.        ,\n",
       "         0.        ,  0.        ,  0.        ,  0.        , -1.        ,\n",
       "        -0.85714286, -0.71428571, -0.71428571, -0.42857143, -0.14285714,\n",
       "         0.        ,  0.42857143,  1.        ,  1.        ])]"
      ]
     },
     "execution_count": 193,
     "metadata": {},
     "output_type": "execute_result"
    }
   ],
   "source": [
    "import numpy as np\n",
    "from sklearn.preprocessing import MinMaxScaler, PolynomialFeatures\n",
    "class Features():\n",
    "    def __init__(self):\n",
    "        self.feature_matrix = []\n",
    "\n",
    "    def get_feature_matrix(self, n_actions, observation):\n",
    "        try:\n",
    "           observation = self.transform_to_polynomial_basis(observation).flatten()\n",
    "        except Exception as e:\n",
    "           print(\"polynomial fit error\")\n",
    "           raise e\n",
    "        observation = self.get_min_max_scaler(observation).flatten()\n",
    "        num_obs = len(observation)\n",
    "        features = []\n",
    "        for j in range(n_actions):\n",
    "          feature = [[None]*num_obs]*n_actions\n",
    "          feature[j] = observation\n",
    "          for i in range(j, n_actions-1+j):\n",
    "            feature[(i+1)%n_actions] = np.zeros(num_obs)\n",
    "          feature = np.array(feature).flatten()\n",
    "          feature = np.append(feature, [1])\n",
    "          features.append(np.array(feature).flatten())\n",
    "        return features\n",
    "    \n",
    "    def get_min_max_scaler(self, observation):\n",
    "      feature=[]\n",
    "      feature = np.append(observation, feature).reshape(-1,1)\n",
    "      scaler = MinMaxScaler(feature_range=(-1,1)).fit(np.array(feature))\n",
    "      scaled = scaler.transform(feature)\n",
    "      return scaled.flatten()\n",
    "    \n",
    "    def transform_to_fourier_basis(self, observation):\n",
    "      return poly.fit_transform(observation)\n",
    "    \n",
    "    def transform_to_polynomial_basis(self, observation):\n",
    "      poly = PolynomialFeatures(degree=2, include_bias=False)\n",
    "      return poly.fit_transform([observation])\n",
    "\n",
    "f = np.array([2,3,4])\n",
    "Features().get_feature_matrix(2, f)"
   ]
  },
  {
   "cell_type": "code",
   "execution_count": 160,
   "metadata": {},
   "outputs": [
    {
     "name": "stdout",
     "output_type": "stream",
     "text": [
      "[2 3 4 1]\n"
     ]
    }
   ],
   "source": [
    "a = np.array([2,3,4])\n",
    "b = np.append(a,1)\n",
    "print(b)"
   ]
  },
  {
   "cell_type": "code",
   "execution_count": 256,
   "metadata": {},
   "outputs": [],
   "source": [
    "import gym\n",
    "import numpy as np\n",
    "import matplotlib.pyplot as plt\n",
    "from gym.wrappers.monitoring.video_recorder import VideoRecorder\n",
    "\n",
    "\n",
    "# class Features():\n",
    "#     def __init__(self):\n",
    "#         self.feature_matrix = []\n",
    "\n",
    "#     def get_feature_matrix(self, n_actions, observation):\n",
    "#         observation = self.get_engineered_feature(observation)\n",
    "#         num_obs = len(observation)\n",
    "#         features = []\n",
    "#         for j in range(n_actions):\n",
    "#           feature = [[None]*num_obs]*n_actions\n",
    "#           feature[j] = observation\n",
    "#           for i in range(j, n_actions-1+j):\n",
    "#             feature[(i+1)%n_actions] = np.zeros(num_obs)\n",
    "#           features.append(np.array(feature).flatten())\n",
    "#         self.feature_matrix = features\n",
    "    \n",
    "#     # def get_action(self, observation):\n",
    "#     #     features =self.get_feature_matrix(observation)\n",
    "#     #     action = np.argmax([feature for feature in features])\n",
    "#     #     delta = reward + self.gamma*max([feature for feature in features])\n",
    "#     #     self.w = (1-self.alpha)*(self.w) + self.alpha*(features[action]*delta) \n",
    "\n",
    "#     def get_engineered_feature(self, observation):\n",
    "#       return observation\n",
    "    \n",
    "class CartPoleEnvLinear(gym.Env):\n",
    "\n",
    "    metadata = {\"render.modes\": [\"human\", \"rgb_array\"], \"video.frames_per_second\": 50}\n",
    "\n",
    "    def __init__(self, render_mode=\"rgb_array\", n_observations=1000, q_table=np.array(None), alpha=0.9):\n",
    "      self.env = gym.make(\"CartPole-v1\", render_mode=render_mode)\n",
    "      self.action_space = self.env.action_space\n",
    "      self.n_actions = 2\n",
    "      self.observation_space = self.env.observation_space\n",
    "      self.n_observation_space = 15\n",
    "      self.n_buckets = 4\n",
    "      self.bucket_size = self.env.observation_space.high / (self.n_buckets/2)\n",
    "      # self.q_table =  np.zeros((self.env.action_space.n, np.power(self.n_buckets, self.n_observation_space))) if not q_table.all() else q_table\n",
    "      self.epsilon = n_observations/2\n",
    "      self.n_observations = n_observations\n",
    "      self.epsilon_delta = self.epsilon / self.n_observations\n",
    "      self.metric = []\n",
    "      self.test_metric = []\n",
    "      self.alpha = alpha\n",
    "      self.gamma =  0.2\n",
    "      self.features = Features()\n",
    "      self.n_observation_space = len(self.features.get_feature_matrix(1,self.observation_space.sample())[0])\n",
    "      print(f\"{self.n_observation_space=}\")\n",
    "      self.w = np.ones(self.n_observation_space*2-1)\n",
    "      self.epsilon_greedy_curve = []\n",
    "      self.converged = False\n",
    "      return \n",
    "    \n",
    "    def get_index(self, observation):\n",
    "      observation_bucketed = self.bucket_observation(observation)\n",
    "      i = len(observation_bucketed) - 1\n",
    "      idx = 0\n",
    "      for el in observation_bucketed:\n",
    "        idx = idx + (self.n_buckets**i * el)\n",
    "        i -= 1\n",
    "      return int(idx)\n",
    "    \n",
    "    def bucket_observation(self, observation):\n",
    "      return(np.floor(observation/self.bucket_size))\n",
    "\n",
    "    def update_q_table(self, observation, observation_prime, reward, action=1):\n",
    "        action, features = self.get_action(observation=observation)\n",
    "        max_future_reward = self.get_max_future_reward(observation=observation_prime)\n",
    "        # print(f\"{max_future_reward=}\")\n",
    "        delta = reward + self.gamma*max_future_reward\n",
    "        # print(f\"{delta=}\")\n",
    "        self.w = (1-self.alpha)*(self.w) + self.alpha*(features[action]*delta)\n",
    "        # print(f\"{self.w=}\")\n",
    "\n",
    "    def get_action(self, observation):\n",
    "       features = self.features.get_feature_matrix(n_actions=self.n_actions, observation=observation)\n",
    "       action = np.argmax([feature.dot(self.w) for feature in features])\n",
    "       return action, features\n",
    "    \n",
    "\n",
    "    def get_max_future_reward(self, observation):\n",
    "      features = self.features.get_feature_matrix(n_actions=self.n_actions, observation=observation)\n",
    "      max_reward = np.max([feature.dot(self.w) for feature in features])\n",
    "      return max_reward\n",
    "\n",
    "    def policy(self, observation):   \n",
    "      prob = self.get_epsilon_greedy_probability() #at first, low probability to read from q-table, ie high prob take random action\n",
    "      take_random_action = prob < np.random.random()\n",
    "      if take_random_action:\n",
    "        return self.action_space.sample()\n",
    "      else:\n",
    "        action, _ = self.get_action(observation)\n",
    "        return action\n",
    "      \n",
    "    def get_epsilon_greedy_probability(self):\n",
    "      x = self.epsilon\n",
    "      # self.epsilon = self.epsilon - 1\n",
    "      prob = np.max((1/(1+np.exp(-x*10/self.n_observations)), 0))\n",
    "      self.epsilon_greedy_curve.append(prob)\n",
    "      return prob\n",
    "    \n",
    "    def update_epsilon(self):\n",
    "       self.epsilon = self.epsilon -1\n",
    "      \n",
    "    def train(self):\n",
    "        observation, _ = self.env.reset()\n",
    "        for i in range(self.n_observations):\n",
    "          j=0\n",
    "          while True:\n",
    "            action = self.policy(observation)\n",
    "            observation_prime, reward, terminated, truncated, info = self.env.step(action)\n",
    "            self.update_q_table(observation, observation_prime, reward, action)\n",
    "            observation = observation_prime\n",
    "            j +=1\n",
    "            if terminated or truncated:\n",
    "              self.update_epsilon()\n",
    "              self.metric.append(j)\n",
    "              j=0\n",
    "              observation, info = self.env.reset()\n",
    "              break\n",
    "        self.env.close()\n",
    "\n",
    "    def train_2(self):\n",
    "        observation, _ = self.env.reset()\n",
    "        converged = True\n",
    "        steps = 0\n",
    "        while not self.converged:\n",
    "          j=0\n",
    "          while True:\n",
    "            action = self.policy(observation)\n",
    "            observation_prime, reward, terminated, truncated, info = self.env.step(action)\n",
    "            self.update_q_table(observation, observation_prime, reward, action)\n",
    "            observation = observation_prime\n",
    "            j +=1\n",
    "            if terminated or truncated:\n",
    "              self.update_epsilon()\n",
    "              self.metric.append(j)\n",
    "              j=0\n",
    "              observation, info = self.env.reset()\n",
    "              break\n",
    "            if steps % 50 ==0:\n",
    "              self.test\n",
    "        self.env.close()\n",
    "      \n",
    "    def test(self):\n",
    "        vid = VideoRecorder(self.env, enabled=True, path=\"./qlearning_linear_test_video/vid.mp4\")\n",
    "        observation, _ = self.env.reset()\n",
    "        j = 0\n",
    "        for i in range(10):\n",
    "            j=0\n",
    "            while True:\n",
    "              features = self.features.get_feature_matrix(n_actions=self.n_actions, observation=observation)\n",
    "              action = np.argmax([feature.dot(self.w) for feature in features])\n",
    "              vid.capture_frame()\n",
    "              observation, reward, terminated, truncated, info = self.env.step(action)\n",
    "              j += 1\n",
    "              if terminated or truncated:\n",
    "                self.test_metric.append(j)\n",
    "                j = 0\n",
    "                observation, _ = self.env.reset()\n",
    "                break\n",
    "        if max(self.test_metric) > 1:\n",
    "          self.converged = True\n",
    "        self.env.reset()\n",
    "        self.env.close()\n",
    "        vid.close()"
   ]
  },
  {
   "cell_type": "code",
   "execution_count": 258,
   "metadata": {},
   "outputs": [
    {
     "name": "stdout",
     "output_type": "stream",
     "text": [
      "self.n_observation_space=15\n"
     ]
    },
    {
     "name": "stderr",
     "output_type": "stream",
     "text": [
      "/Users/jadon/Documents/cart-pole/RL-for-DPIC/cart-pole-env/lib/python3.8/site-packages/gym/utils/passive_env_checker.py:233: DeprecationWarning: `np.bool8` is a deprecated alias for `np.bool_`.  (Deprecated NumPy 1.24)\n",
      "  if not isinstance(terminated, (bool, np.bool8)):\n"
     ]
    },
    {
     "name": "stdout",
     "output_type": "stream",
     "text": [
      "Moviepy - Building video ./qlearning_linear_test_video/vid.mp4.\n",
      "Moviepy - Writing video ./qlearning_linear_test_video/vid.mp4\n",
      "\n"
     ]
    },
    {
     "name": "stderr",
     "output_type": "stream",
     "text": [
      "                                                              \r"
     ]
    },
    {
     "name": "stdout",
     "output_type": "stream",
     "text": [
      "Moviepy - Done !\n",
      "Moviepy - video ready ./qlearning_linear_test_video/vid.mp4\n"
     ]
    },
    {
     "data": {
      "text/plain": [
       "(array([ 0., 21., 11.,  8.,  0.,  4.,  1.,  2.,  0.,  3.]),\n",
       " array([ 2.,  7., 12., 17., 22., 27., 32., 37., 42., 47., 52.]),\n",
       " <BarContainer object of 10 artists>)"
      ]
     },
     "execution_count": 258,
     "metadata": {},
     "output_type": "execute_result"
    },
    {
     "data": {
      "image/png": "[encoded data removed]",
      "text/plain": [
       "<Figure size 640x480 with 4 Axes>"
      ]
     },
     "metadata": {},
     "output_type": "display_data"
    }
   ],
   "source": [
    "env = CartPoleEnvLinear(n_observations=50, alpha = 0.99)\n",
    "fig, ax = plt.subplots(2,2)\n",
    "ax = ax.flat\n",
    "env.train()\n",
    "env.test()\n",
    "# print(np.mean(env.test_metric))\n",
    "# print(np.median(env.test_metric))\n",
    "# print(np.quantile(env.metric, [0, 0.25, 0.5, 0.75, .95, .99, 1]))\n",
    "ax[0].plot(np.array(env.test_metric))\n",
    "ax[1].plot(env.metric)\n",
    "ax[2].plot(env.epsilon_greedy_curve)\n",
    "ax[3].hist(env.metric, bins=10, range=[np.max(env.metric)-50,np.max(env.metric)])"
   ]
  },
  {
   "cell_type": "code",
   "execution_count": 58,
   "metadata": {},
   "outputs": [],
   "source": [
    "# y = []\n",
    "# z = []\n",
    "# r = 100\n",
    "# alpha = 0.1\n",
    "# seq = np.arange(-r, r)\n",
    "# for x in seq:\n",
    "#     y.append(np.max((1/(1+np.exp(-x*5/r)), 0))) \n",
    "#     z.append(alpha*(1/(r-x)))\n",
    "# # plt.plot(-np.array(y))\n",
    "# plt.plot(z)"
   ]
  },
  {
   "cell_type": "code",
   "execution_count": 211,
   "metadata": {},
   "outputs": [
    {
     "data": {
      "text/plain": [
       "array([ 2.73299553e-01, -1.98180290e-01, -2.64032683e-01, -1.42649703e+00,\n",
       "        4.01678488e-01,  4.19563056e-01,  4.22175178e-01,  4.66691877e-01,\n",
       "        5.08782150e-01,  5.18256752e-01,  7.27223719e-01,  5.31743721e-01,\n",
       "        7.68886871e-01,  1.43068857e+00, -2.65191550e-45, -1.13848530e-44,\n",
       "       -2.10929820e-45,  1.13848530e-44, -1.37454317e-46,  2.69179828e-46,\n",
       "       -1.62795856e-46, -7.91120418e-46,  2.16753903e-45,  1.52984664e-46,\n",
       "       -2.78050140e-45, -1.82319189e-46, -6.70273178e-46,  2.40394173e-45,\n",
       "        1.43692882e+00])"
      ]
     },
     "execution_count": 211,
     "metadata": {},
     "output_type": "execute_result"
    }
   ],
   "source": [
    "env.w"
   ]
  },
  {
   "cell_type": "code",
   "execution_count": null,
   "metadata": {},
   "outputs": [],
   "source": []
  }
 ],
 "metadata": {
  "kernelspec": {
   "display_name": "cart-pole-env",
   "language": "python",
   "name": "cart-pole-env"
  },
  "language_info": {
   "codemirror_mode": {
    "name": "ipython",
    "version": 3
   },
   "file_extension": ".py",
   "mimetype": "text/x-python",
   "name": "python",
   "nbconvert_exporter": "python",
   "pygments_lexer": "ipython3",
   "version": "3.8.6"
  }
 },
 "nbformat": 4,
 "nbformat_minor": 2
}
